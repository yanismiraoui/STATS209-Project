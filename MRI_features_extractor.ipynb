{
 "cells": [
  {
   "cell_type": "code",
   "execution_count": 1,
   "metadata": {},
   "outputs": [],
   "source": [
    "import numpy as np\n",
    "import pandas as pd\n",
    "import sklearn\n",
    "import torch"
   ]
  },
  {
   "cell_type": "code",
   "execution_count": 2,
   "metadata": {},
   "outputs": [
    {
     "name": "stdout",
     "output_type": "stream",
     "text": [
      "Number of subjects:  1009\n"
     ]
    },
    {
     "data": {
      "text/plain": [
       "dict_keys(['timeseires', 'label', 'corr', 'pcorr', 'site'])"
      ]
     },
     "execution_count": 2,
     "metadata": {},
     "output_type": "execute_result"
    }
   ],
   "source": [
    "data = np.load(f\"./data/abide.npy\",allow_pickle=True).item()\n",
    "print(\"Number of subjects: \", len(data['label']))\n",
    "data.keys()"
   ]
  },
  {
   "cell_type": "code",
   "execution_count": 3,
   "metadata": {},
   "outputs": [
    {
     "name": "stdout",
     "output_type": "stream",
     "text": [
      "Connectome (X) shape: (1009, 116, 116)\n"
     ]
    }
   ],
   "source": [
    "conn = data[\"corr\"]\n",
    "print(f\"Connectome (X) shape: {conn.shape}\") # n_ROIs, n_ROIs, n_subjects"
   ]
  },
  {
   "cell_type": "code",
   "execution_count": 4,
   "metadata": {},
   "outputs": [
    {
     "name": "stdout",
     "output_type": "stream",
     "text": [
      "ASD scores (y) shape: (1009,)\n"
     ]
    }
   ],
   "source": [
    "scores = data[\"label\"]\n",
    "print(f\"ASD scores (y) shape: {scores.shape}\") # n_subjects"
   ]
  },
  {
   "cell_type": "code",
   "execution_count": 5,
   "metadata": {},
   "outputs": [],
   "source": [
    "import torch\n",
    "import torch.nn as nn\n",
    "import torch.optim as optim\n",
    "from torchvision import datasets, transforms\n",
    "from torch.utils.data import DataLoader\n"
   ]
  },
  {
   "cell_type": "code",
   "execution_count": 6,
   "metadata": {},
   "outputs": [],
   "source": [
    "class Autoencoder(nn.Module):\n",
    "    def __init__(self):\n",
    "        super(Autoencoder, self).__init__()\n",
    "        # Encoder\n",
    "        self.encoder = nn.Sequential(\n",
    "            nn.Linear(13456, 128),\n",
    "            nn.ReLU(),\n",
    "            nn.Linear(128, 64),\n",
    "            nn.ReLU(),\n",
    "            nn.Linear(64, 12),\n",
    "            nn.ReLU(),\n",
    "            nn.Linear(12, 3)  # Compressed representation\n",
    "        )\n",
    "        # Decoder\n",
    "        self.decoder = nn.Sequential(\n",
    "            nn.Linear(3, 12),\n",
    "            nn.ReLU(),\n",
    "            nn.Linear(12, 64),\n",
    "            nn.ReLU(),\n",
    "            nn.Linear(64, 128),\n",
    "            nn.ReLU(),\n",
    "            nn.Linear(128, 13456),\n",
    "            nn.Sigmoid()  # Output values between 0 and 1\n",
    "        )\n",
    "\n",
    "    def forward(self, x):\n",
    "        x = self.encoder(x)\n",
    "        x = self.decoder(x)\n",
    "        return x\n"
   ]
  },
  {
   "cell_type": "code",
   "execution_count": 7,
   "metadata": {},
   "outputs": [
    {
     "name": "stdout",
     "output_type": "stream",
     "text": [
      "X_train shape: (807, 116, 116)\n",
      "X_test shape: (202, 116, 116)\n",
      "y_train shape: (807,)\n",
      "y_test shape: (202,)\n"
     ]
    }
   ],
   "source": [
    "# Train autoencoder using the corr matrices\n",
    "# Split dataset into train and test\n",
    "from sklearn.model_selection import train_test_split\n",
    "X_train, X_test, y_train, y_test = train_test_split(conn, scores, test_size=0.2, random_state=42)\n",
    "\n",
    "print(f\"X_train shape: {X_train.shape}\")\n",
    "print(f\"X_test shape: {X_test.shape}\")\n",
    "print(f\"y_train shape: {y_train.shape}\")\n",
    "print(f\"y_test shape: {y_test.shape}\")"
   ]
  },
  {
   "cell_type": "code",
   "execution_count": 8,
   "metadata": {},
   "outputs": [],
   "source": [
    "model = Autoencoder().float()\n",
    "criterion = nn.MSELoss()\n",
    "optimizer = optim.Adam(model.parameters(), lr=1e-3)\n"
   ]
  },
  {
   "cell_type": "code",
   "execution_count": 9,
   "metadata": {},
   "outputs": [
    {
     "name": "stdout",
     "output_type": "stream",
     "text": [
      "X_train shape: (800, 116, 116)\n"
     ]
    }
   ],
   "source": [
    "batch_size = 8\n",
    "# change the length of X_train to match batch_size\n",
    "X_train = X_train[:len(X_train) - (len(X_train) % batch_size)]\n",
    "print(f\"X_train shape: {X_train.shape}\")\n",
    "train_loader = DataLoader(X_train, batch_size=1, shuffle=True)"
   ]
  },
  {
   "cell_type": "code",
   "execution_count": 10,
   "metadata": {},
   "outputs": [
    {
     "name": "stdout",
     "output_type": "stream",
     "text": [
      "Epoch [1/10], Loss: 0.0366, Test loss: 0.0383\n",
      "Epoch [2/10], Loss: 0.0385, Test loss: 0.0395\n",
      "Epoch [3/10], Loss: 0.0438, Test loss: 0.0387\n",
      "Epoch [4/10], Loss: 0.0381, Test loss: 0.0381\n",
      "Epoch [5/10], Loss: 0.0916, Test loss: 0.0382\n",
      "Epoch [6/10], Loss: 0.0417, Test loss: 0.0374\n",
      "Epoch [7/10], Loss: 0.0408, Test loss: 0.0361\n",
      "Epoch [8/10], Loss: 0.0311, Test loss: 0.0367\n",
      "Epoch [9/10], Loss: 0.0575, Test loss: 0.0358\n",
      "Epoch [10/10], Loss: 0.0507, Test loss: 0.0357\n"
     ]
    }
   ],
   "source": [
    "\n",
    "num_epochs = 10\n",
    "for epoch in range(num_epochs):\n",
    "    for data in train_loader:\n",
    "        matrix = data.float()\n",
    "        # reshape\n",
    "        matrix = matrix.view(matrix.size(0), -1)\n",
    "        output = model(matrix)\n",
    "        loss = criterion(output, matrix)\n",
    "\n",
    "        optimizer.zero_grad()\n",
    "        loss.backward()\n",
    "        optimizer.step()\n",
    "        \n",
    "    # Evaluate on test set\n",
    "    test_matrix = torch.tensor(X_test).float()\n",
    "    test_matrix = test_matrix.view(test_matrix.size(0), -1)\n",
    "    test_output = model(test_matrix)\n",
    "    test_loss = criterion(test_output, test_matrix)\n",
    "    print(f'Epoch [{epoch+1}/{num_epochs}], Loss: {loss.item():.4f}, Test loss: {test_loss.item():.4f}')\n",
    "\n"
   ]
  },
  {
   "cell_type": "code",
   "execution_count": 11,
   "metadata": {},
   "outputs": [
    {
     "name": "stdout",
     "output_type": "stream",
     "text": [
      "X shape: (1008, 116, 116)\n",
      "Epoch [1/10], Loss: 0.0254\n",
      "Epoch [2/10], Loss: 0.0316\n",
      "Epoch [3/10], Loss: 0.0221\n",
      "Epoch [4/10], Loss: 0.0301\n",
      "Epoch [5/10], Loss: 0.0276\n",
      "Epoch [6/10], Loss: 0.0257\n",
      "Epoch [7/10], Loss: 0.0450\n",
      "Epoch [8/10], Loss: 0.0369\n",
      "Epoch [9/10], Loss: 0.0277\n",
      "Epoch [10/10], Loss: 0.0279\n"
     ]
    }
   ],
   "source": [
    "# Train on all data as it is an unsupervised task\n",
    "\n",
    "# Initiliaze model\n",
    "model = Autoencoder().float()\n",
    "criterion = nn.MSELoss()\n",
    "optimizer = optim.Adam(model.parameters(), lr=1e-3)\n",
    "\n",
    "# Determine batch size and adapt dataset\n",
    "batch_size = 4\n",
    "# change the length of X_train to match batch_size\n",
    "conn = conn[:len(conn) - (len(conn) % batch_size)]\n",
    "print(f\"Initial X shape: {conn.shape}\")\n",
    "print(f\"Adapted X shape: {conn.shape}\")\n",
    "X_loader = DataLoader(conn, batch_size=1, shuffle=True)\n",
    "\n",
    "num_epochs = 10\n",
    "for epoch in range(num_epochs):\n",
    "    for data in X_loader:\n",
    "        matrix = data.float()\n",
    "        # reshape\n",
    "        matrix = matrix.view(matrix.size(0), -1)\n",
    "        output = model(matrix)\n",
    "        loss = criterion(output, matrix)\n",
    "\n",
    "        optimizer.zero_grad()\n",
    "        loss.backward()\n",
    "        optimizer.step()\n",
    "        \n",
    "    print(f'Epoch [{epoch+1}/{num_epochs}], Loss: {loss.item():.4f}')\n",
    "\n"
   ]
  },
  {
   "cell_type": "code",
   "execution_count": 12,
   "metadata": {},
   "outputs": [
    {
     "name": "stdout",
     "output_type": "stream",
     "text": [
      "Loss: 0.0343\n"
     ]
    }
   ],
   "source": [
    "# Get predictions for all data (train and test)\n",
    "all_data = torch.tensor(conn).float()\n",
    "all_data = all_data.view(all_data.size(0), -1)\n",
    "all_output = model(all_data)\n",
    "all_loss = criterion(all_output, all_data)\n",
    "print(f'Loss: {all_loss.item():.4f}')"
   ]
  },
  {
   "cell_type": "code",
   "execution_count": 13,
   "metadata": {},
   "outputs": [
    {
     "name": "stdout",
     "output_type": "stream",
     "text": [
      "Compressed representation shape: (1008, 3)\n"
     ]
    },
    {
     "data": {
      "text/plain": [
       "array([[ 1.7905575 ,  3.0867612 , -1.0521109 ],\n",
       "       [ 1.7585279 ,  3.037877  , -1.0296388 ],\n",
       "       [-0.01863605,  0.32553953,  0.21722454],\n",
       "       ...,\n",
       "       [ 4.1797085 ,  6.7331233 , -2.7283459 ],\n",
       "       [ 1.5395811 ,  2.7037168 , -0.876025  ],\n",
       "       [ 1.6772534 ,  2.9138343 , -0.97261626]], dtype=float32)"
      ]
     },
     "execution_count": 13,
     "metadata": {},
     "output_type": "execute_result"
    }
   ],
   "source": [
    "# Get the compressed representation\n",
    "compressed = model.encoder(all_data)\n",
    "compressed = compressed.detach().numpy()\n",
    "print(f\"Compressed representation shape: {compressed.shape}\")\n",
    "compressed"
   ]
  },
  {
   "cell_type": "code",
   "execution_count": 15,
   "metadata": {},
   "outputs": [
    {
     "data": {
      "text/plain": [
       "(1008, 3)"
      ]
     },
     "execution_count": 15,
     "metadata": {},
     "output_type": "execute_result"
    }
   ],
   "source": [
    "# Save compressed representation to .npy\n",
    "PATH = './mri_features.npy'\n"
   ]
  },
  {
   "cell_type": "code",
   "execution_count": null,
   "metadata": {},
   "outputs": [],
   "source": []
  }
 ],
 "metadata": {
  "kernelspec": {
   "display_name": "base",
   "language": "python",
   "name": "python3"
  },
  "language_info": {
   "codemirror_mode": {
    "name": "ipython",
    "version": 3
   },
   "file_extension": ".py",
   "mimetype": "text/x-python",
   "name": "python",
   "nbconvert_exporter": "python",
   "pygments_lexer": "ipython3",
   "version": "3.8.16"
  },
  "orig_nbformat": 4
 },
 "nbformat": 4,
 "nbformat_minor": 2
}
