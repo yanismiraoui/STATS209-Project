{
 "cells": [
  {
   "cell_type": "code",
   "execution_count": 2,
   "metadata": {},
   "outputs": [],
   "source": [
    "import numpy as np\n",
    "import pandas as pd\n",
    "import sklearn\n",
    "import torch"
   ]
  },
  {
   "cell_type": "code",
   "execution_count": 3,
   "metadata": {},
   "outputs": [
    {
     "name": "stdout",
     "output_type": "stream",
     "text": [
      "Number of subjects:  1009\n"
     ]
    },
    {
     "data": {
      "text/plain": [
       "dict_keys(['timeseires', 'label', 'corr', 'pcorr', 'site'])"
      ]
     },
     "execution_count": 3,
     "metadata": {},
     "output_type": "execute_result"
    }
   ],
   "source": [
    "data = np.load(f\"./data/abide.npy\",allow_pickle=True).item()\n",
    "print(\"Number of subjects: \", len(data['label']))\n",
    "data.keys()"
   ]
  },
  {
   "cell_type": "code",
   "execution_count": 4,
   "metadata": {},
   "outputs": [
    {
     "name": "stdout",
     "output_type": "stream",
     "text": [
      "Connectome (X) shape: (1009, 116, 116)\n"
     ]
    }
   ],
   "source": [
    "conn = data[\"corr\"]\n",
    "print(f\"Connectome (X) shape: {conn.shape}\") # n_ROIs, n_ROIs, n_subjects"
   ]
  },
  {
   "cell_type": "code",
   "execution_count": 5,
   "metadata": {},
   "outputs": [
    {
     "name": "stdout",
     "output_type": "stream",
     "text": [
      "ASD scores (y) shape: (1009,)\n"
     ]
    }
   ],
   "source": [
    "scores = data[\"label\"]\n",
    "print(f\"ASD scores (y) shape: {scores.shape}\") # n_subjects"
   ]
  },
  {
   "cell_type": "code",
   "execution_count": 6,
   "metadata": {},
   "outputs": [],
   "source": [
    "import torch\n",
    "import torch.nn as nn\n",
    "import torch.optim as optim\n",
    "from torchvision import datasets, transforms\n",
    "from torch.utils.data import DataLoader\n"
   ]
  },
  {
   "cell_type": "code",
   "execution_count": 38,
   "metadata": {},
   "outputs": [],
   "source": [
    "class Autoencoder(nn.Module):\n",
    "    def __init__(self):\n",
    "        super(Autoencoder, self).__init__()\n",
    "        # Encoder\n",
    "        self.encoder = nn.Sequential(\n",
    "            nn.Linear(13456, 128),\n",
    "            nn.ReLU(),\n",
    "            nn.Linear(128, 64),\n",
    "            nn.ReLU(),\n",
    "            nn.Linear(64, 12),\n",
    "            nn.ReLU(),\n",
    "            nn.Linear(12, 3)  # Compressed representation\n",
    "        )\n",
    "        # Decoder\n",
    "        self.decoder = nn.Sequential(\n",
    "            nn.Linear(3, 12),\n",
    "            nn.ReLU(),\n",
    "            nn.Linear(12, 64),\n",
    "            nn.ReLU(),\n",
    "            nn.Linear(64, 128),\n",
    "            nn.ReLU(),\n",
    "            nn.Linear(128, 13456),\n",
    "            nn.Sigmoid()  # Output values between 0 and 1\n",
    "        )\n",
    "\n",
    "    def forward(self, x):\n",
    "        x = self.encoder(x)\n",
    "        x = self.decoder(x)\n",
    "        return x\n"
   ]
  },
  {
   "cell_type": "code",
   "execution_count": 39,
   "metadata": {},
   "outputs": [
    {
     "name": "stdout",
     "output_type": "stream",
     "text": [
      "X_train shape: (807, 116, 116)\n",
      "X_test shape: (202, 116, 116)\n",
      "y_train shape: (807,)\n",
      "y_test shape: (202,)\n"
     ]
    }
   ],
   "source": [
    "# Train autoencoder using the corr matrices\n",
    "# Split dataset into train and test\n",
    "from sklearn.model_selection import train_test_split\n",
    "X_train, X_test, y_train, y_test = train_test_split(conn, scores, test_size=0.2, random_state=42)\n",
    "\n",
    "print(f\"X_train shape: {X_train.shape}\")\n",
    "print(f\"X_test shape: {X_test.shape}\")\n",
    "print(f\"y_train shape: {y_train.shape}\")\n",
    "print(f\"y_test shape: {y_test.shape}\")"
   ]
  },
  {
   "cell_type": "code",
   "execution_count": 40,
   "metadata": {},
   "outputs": [],
   "source": [
    "model = Autoencoder().float()\n",
    "criterion = nn.MSELoss()\n",
    "optimizer = optim.Adam(model.parameters(), lr=1e-3)\n"
   ]
  },
  {
   "cell_type": "code",
   "execution_count": 47,
   "metadata": {},
   "outputs": [
    {
     "data": {
      "text/plain": [
       "36.63636363636363"
      ]
     },
     "execution_count": 47,
     "metadata": {},
     "output_type": "execute_result"
    }
   ],
   "source": []
  },
  {
   "cell_type": "code",
   "execution_count": 49,
   "metadata": {},
   "outputs": [
    {
     "name": "stdout",
     "output_type": "stream",
     "text": [
      "X_train shape: (800, 116, 116)\n"
     ]
    }
   ],
   "source": [
    "batch_size = 8\n",
    "# change the length of X_train to match batch_size\n",
    "X_train = X_train[:len(X_train) - (len(X_train) % batch_size)]\n",
    "print(f\"X_train shape: {X_train.shape}\")\n",
    "train_loader = DataLoader(X_train, batch_size=1, shuffle=True)"
   ]
  },
  {
   "cell_type": "code",
   "execution_count": 51,
   "metadata": {},
   "outputs": [
    {
     "name": "stdout",
     "output_type": "stream",
     "text": [
      "Epoch [1/10], Loss: 0.0286, Test loss: 0.0351\n",
      "Epoch [2/10], Loss: 0.0216, Test loss: 0.0349\n",
      "Epoch [3/10], Loss: 0.0300, Test loss: 0.0349\n",
      "Epoch [4/10], Loss: 0.0302, Test loss: 0.0349\n",
      "Epoch [5/10], Loss: 0.0288, Test loss: 0.0350\n",
      "Epoch [6/10], Loss: 0.0504, Test loss: 0.0349\n",
      "Epoch [7/10], Loss: 0.0290, Test loss: 0.0350\n",
      "Epoch [8/10], Loss: 0.0385, Test loss: 0.0348\n",
      "Epoch [9/10], Loss: 0.0202, Test loss: 0.0340\n",
      "Epoch [10/10], Loss: 0.0292, Test loss: 0.0338\n"
     ]
    }
   ],
   "source": [
    "\n",
    "num_epochs = 10\n",
    "for epoch in range(num_epochs):\n",
    "    for data in train_loader:\n",
    "        matrix = data.float()\n",
    "        # reshape\n",
    "        matrix = matrix.view(matrix.size(0), -1)\n",
    "        output = model(matrix)\n",
    "        loss = criterion(output, matrix)\n",
    "\n",
    "        optimizer.zero_grad()\n",
    "        loss.backward()\n",
    "        optimizer.step()\n",
    "        \n",
    "    # Evaluate on test set\n",
    "    test_matrix = torch.tensor(X_test).float()\n",
    "    test_matrix = test_matrix.view(test_matrix.size(0), -1)\n",
    "    test_output = model(test_matrix)\n",
    "    test_loss = criterion(test_output, test_matrix)\n",
    "    print(f'Epoch [{epoch+1}/{num_epochs}], Loss: {loss.item():.4f}, Test loss: {test_loss.item():.4f}')\n",
    "\n"
   ]
  },
  {
   "cell_type": "code",
   "execution_count": 52,
   "metadata": {},
   "outputs": [
    {
     "name": "stdout",
     "output_type": "stream",
     "text": [
      "Loss: 0.0329\n"
     ]
    }
   ],
   "source": [
    "# Get predictions for all data (train and test)\n",
    "all_data = torch.tensor(conn).float()\n",
    "all_data = all_data.view(all_data.size(0), -1)\n",
    "all_output = model(all_data)\n",
    "all_loss = criterion(all_output, all_data)\n",
    "print(f'Loss: {all_loss.item():.4f}')"
   ]
  },
  {
   "cell_type": "code",
   "execution_count": 56,
   "metadata": {},
   "outputs": [
    {
     "name": "stdout",
     "output_type": "stream",
     "text": [
      "Compressed representation shape: (1009, 3)\n"
     ]
    },
    {
     "data": {
      "text/plain": [
       "array([[ 1.0716132 ,  1.151193  ,  0.2651278 ],\n",
       "       [ 1.4225651 ,  0.9257535 ,  0.03692634],\n",
       "       [ 0.03002885, -0.00735715,  0.19386314],\n",
       "       ...,\n",
       "       [ 1.1388929 ,  0.8494133 ,  0.1154813 ],\n",
       "       [ 1.2313913 ,  1.0216595 ,  0.150218  ],\n",
       "       [ 0.8533045 ,  1.249581  ,  0.38994104]], dtype=float32)"
      ]
     },
     "execution_count": 56,
     "metadata": {},
     "output_type": "execute_result"
    }
   ],
   "source": [
    "# Get the compressed representation\n",
    "compressed = model.encoder(all_data)\n",
    "compressed = compressed.detach().numpy()\n",
    "print(f\"Compressed representation shape: {compressed.shape}\")\n",
    "compressed"
   ]
  },
  {
   "cell_type": "code",
   "execution_count": null,
   "metadata": {},
   "outputs": [],
   "source": []
  }
 ],
 "metadata": {
  "kernelspec": {
   "display_name": "base",
   "language": "python",
   "name": "python3"
  },
  "language_info": {
   "codemirror_mode": {
    "name": "ipython",
    "version": 3
   },
   "file_extension": ".py",
   "mimetype": "text/x-python",
   "name": "python",
   "nbconvert_exporter": "python",
   "pygments_lexer": "ipython3",
   "version": "3.8.16"
  },
  "orig_nbformat": 4
 },
 "nbformat": 4,
 "nbformat_minor": 2
}
